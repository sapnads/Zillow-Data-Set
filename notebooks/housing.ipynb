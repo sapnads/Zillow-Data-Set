{
 "cells": [
  {
   "cell_type": "markdown",
   "metadata": {
    "slideshow": {
     "slide_type": "slide"
    }
   },
   "source": [
    "# Zillow Neighborhood Dataset Analysis \n",
    "\n"
   ]
  },
  {
   "cell_type": "markdown",
   "metadata": {
    "slideshow": {
     "slide_type": "slide"
    }
   },
   "source": [
    "- It is strongly recommended you use the standard `pd`, `np`, `plt` and `sns` namespaces for these popular libraries\n"
   ]
  },
  {
   "cell_type": "code",
   "execution_count": null,
   "metadata": {
    "ExecuteTime": {
     "end_time": "2019-08-29T15:17:20.497342Z",
     "start_time": "2019-08-29T15:17:19.353926Z"
    }
   },
   "outputs": [],
   "source": [
    "import pandas as pd\n",
    "import numpy as np\n",
    "\n",
    "\n",
    "import matplotlib.pyplot as plt\n",
    "%matplotlib inline\n",
    "\n",
    "import seaborn as sns"
   ]
  },
  {
   "cell_type": "markdown",
   "metadata": {
    "slideshow": {
     "slide_type": "slide"
    }
   },
   "source": [
    "## Load the Zillow dataset"
   ]
  },
  {
   "cell_type": "code",
   "execution_count": null,
   "metadata": {
    "ExecuteTime": {
     "end_time": "2019-08-29T15:17:20.966859Z",
     "start_time": "2019-08-29T15:17:20.500570Z"
    },
    "colab": {},
    "colab_type": "code",
    "id": "aEmf3rOkkDQC",
    "slideshow": {
     "slide_type": "-"
    }
   },
   "outputs": [],
   "source": [
    "df = pd.read_csv(\"../data/Neighborhood_Zhvi_AllHomes.csv\")\n",
    "df.head()"
   ]
  },
  {
   "cell_type": "markdown",
   "metadata": {
    "slideshow": {
     "slide_type": "slide"
    }
   },
   "source": [
    "## How much are homes selling for in this dataset? "
   ]
  },
  {
   "cell_type": "code",
   "execution_count": null,
   "metadata": {
    "ExecuteTime": {
     "end_time": "2019-08-29T15:17:21.315225Z",
     "start_time": "2019-08-29T15:17:20.976168Z"
    },
    "slideshow": {
     "slide_type": "fragment"
    }
   },
   "outputs": [],
   "source": [
    "plt.hist(df[\"2019-07\"]);"
   ]
  },
  {
   "cell_type": "markdown",
   "metadata": {
    "slideshow": {
     "slide_type": "fragment"
    }
   },
   "source": [
    "Yuck, that's a lot of overplotting. Let's fix it by rotating the ticks on the x-axis. "
   ]
  },
  {
   "cell_type": "code",
   "execution_count": null,
   "metadata": {
    "ExecuteTime": {
     "end_time": "2019-08-29T15:17:21.550535Z",
     "start_time": "2019-08-29T15:17:21.317472Z"
    },
    "slideshow": {
     "slide_type": "slide"
    }
   },
   "outputs": [],
   "source": [
    "plt.hist(df[\"2019-07\"]);\n",
    "plt.xticks(rotation = 90);"
   ]
  },
  {
   "cell_type": "markdown",
   "metadata": {
    "slideshow": {
     "slide_type": "fragment"
    }
   },
   "source": [
    "The distribution of prices seems heavily skewed. \n",
    "\n",
    "How can we mitigate this so we can see the spread of the data better?"
   ]
  },
  {
   "cell_type": "markdown",
   "metadata": {
    "slideshow": {
     "slide_type": "slide"
    }
   },
   "source": [
    "The log-transform is our friend for such heavily skewed distributions. \n",
    "\n",
    "(Aside: why?) "
   ]
  },
  {
   "cell_type": "code",
   "execution_count": null,
   "metadata": {
    "ExecuteTime": {
     "end_time": "2019-08-29T15:17:21.736111Z",
     "start_time": "2019-08-29T15:17:21.552563Z"
    },
    "slideshow": {
     "slide_type": "fragment"
    }
   },
   "outputs": [],
   "source": [
    "plt.hist(np.log10(df[\"2019-07\"]));"
   ]
  },
  {
   "cell_type": "markdown",
   "metadata": {
    "slideshow": {
     "slide_type": "fragment"
    }
   },
   "source": [
    "It would be nice to compare how prices today compare to, say, 10 years ago. "
   ]
  },
  {
   "cell_type": "code",
   "execution_count": null,
   "metadata": {
    "ExecuteTime": {
     "end_time": "2019-08-29T15:17:22.271544Z",
     "start_time": "2019-08-29T15:17:21.737773Z"
    },
    "slideshow": {
     "slide_type": "slide"
    }
   },
   "outputs": [],
   "source": [
    "sns.distplot(np.log10(df[\"2009-07\"].dropna()), label =\"July 2009\");\n",
    "sns.distplot(np.log10(df[\"2019-07\"]), label = \"July 2019\");\n",
    "plt.xlabel(\"Median Neighborhood Housing Prices (log scale)\")\n",
    "plt.ylabel(\"Density\");\n",
    "plt.legend();"
   ]
  },
  {
   "cell_type": "markdown",
   "metadata": {
    "slideshow": {
     "slide_type": "slide"
    }
   },
   "source": [
    "## San Diego Analysis\n",
    "\n",
    "Let's focus on understanding price changes in San Diego over time."
   ]
  },
  {
   "cell_type": "markdown",
   "metadata": {
    "slideshow": {
     "slide_type": "slide"
    }
   },
   "source": [
    "### Tidy Data\n",
    "- Each variable you measure should be in one column.\n",
    "- Each different observation of that variable should be in a different row.\n"
   ]
  },
  {
   "cell_type": "code",
   "execution_count": null,
   "metadata": {
    "ExecuteTime": {
     "end_time": "2019-08-29T15:17:22.298193Z",
     "start_time": "2019-08-29T15:17:22.274914Z"
    },
    "colab": {
     "base_uri": "https://localhost:8080/",
     "height": 119
    },
    "colab_type": "code",
    "id": "G3HSaJCquKav",
    "outputId": "93421712-e100-4b16-f258-6b6dbbf9a964",
    "scrolled": false,
    "slideshow": {
     "slide_type": "-"
    }
   },
   "outputs": [],
   "source": [
    "df.head()"
   ]
  },
  {
   "cell_type": "markdown",
   "metadata": {
    "slideshow": {
     "slide_type": "fragment"
    }
   },
   "source": [
    "- Our data is not tidy! \n",
    "Each price for each year is a different observation so should be in different row!"
   ]
  },
  {
   "cell_type": "markdown",
   "metadata": {
    "slideshow": {
     "slide_type": "slide"
    }
   },
   "source": [
    "- `pd.melt` reshapes our data into the tidy format"
   ]
  },
  {
   "cell_type": "code",
   "execution_count": null,
   "metadata": {
    "ExecuteTime": {
     "end_time": "2019-08-29T15:17:22.620107Z",
     "start_time": "2019-08-29T15:17:22.301221Z"
    },
    "colab": {},
    "colab_type": "code",
    "id": "E49DWbXcuPuA",
    "slideshow": {
     "slide_type": "-"
    }
   },
   "outputs": [],
   "source": [
    "df_m = pd.melt(df, id_vars=['RegionID', 'RegionName', 'City', 'State', \n",
    "                            'Metro', 'CountyName','SizeRank'])\n",
    "\n",
    "df_m.head()"
   ]
  },
  {
   "cell_type": "code",
   "execution_count": null,
   "metadata": {
    "ExecuteTime": {
     "end_time": "2019-08-29T15:17:22.626106Z",
     "start_time": "2019-08-29T15:17:22.622185Z"
    },
    "slideshow": {
     "slide_type": "fragment"
    }
   },
   "outputs": [],
   "source": [
    "df_m.shape"
   ]
  },
  {
   "cell_type": "code",
   "execution_count": null,
   "metadata": {
    "ExecuteTime": {
     "end_time": "2019-08-29T15:17:22.804239Z",
     "start_time": "2019-08-29T15:17:22.628302Z"
    },
    "colab": {},
    "colab_type": "code",
    "id": "Pgml9sIauoQP",
    "slideshow": {
     "slide_type": "fragment"
    }
   },
   "outputs": [],
   "source": [
    "df_sd = df_m[df_m.CountyName == 'San Diego County']\n",
    "\n",
    "df_sd.head()"
   ]
  },
  {
   "cell_type": "markdown",
   "metadata": {
    "slideshow": {
     "slide_type": "slide"
    }
   },
   "source": [
    "Lets explore how the median price of homes in each region has changed over time. "
   ]
  },
  {
   "cell_type": "code",
   "execution_count": null,
   "metadata": {
    "ExecuteTime": {
     "end_time": "2019-08-29T15:17:26.618627Z",
     "start_time": "2019-08-29T15:17:22.806201Z"
    },
    "colab": {
     "base_uri": "https://localhost:8080/",
     "height": 325
    },
    "colab_type": "code",
    "id": "68-GIy2JQqeB",
    "outputId": "14804564-e360-43f7-c6bb-b349f242a7ca",
    "scrolled": true,
    "slideshow": {
     "slide_type": "-"
    }
   },
   "outputs": [],
   "source": [
    "plt.plot(df_sd.variable, df_sd.value, '.', alpha = .01);"
   ]
  },
  {
   "cell_type": "markdown",
   "metadata": {
    "slideshow": {
     "slide_type": "fragment"
    }
   },
   "source": [
    "- We get a good idea of the trends but over-plotting on the x-ticks makes it impossible to read. \n",
    "\n",
    "- We need to reduce the resolution of the x-ticks. "
   ]
  },
  {
   "cell_type": "code",
   "execution_count": null,
   "metadata": {
    "ExecuteTime": {
     "end_time": "2019-08-29T15:17:27.000344Z",
     "start_time": "2019-08-29T15:17:26.620864Z"
    },
    "code_folding": [],
    "slideshow": {
     "slide_type": "slide"
    }
   },
   "outputs": [],
   "source": [
    "plt.figure(figsize=(12,4))\n",
    "plt.plot(df_sd.variable, df_sd.value, '.', alpha = .01);\n",
    "\n",
    "# create the text to use for labels for every 12 months\n",
    "labels = []\n",
    "pos = []\n",
    "for i, item in enumerate(pd.unique(df_sd.variable)):\n",
    "    if i % 12 ==0:\n",
    "        pos.append(i)\n",
    "        labels.append(item)\n",
    "\n",
    "plt.xticks(pos, labels, rotation = 90);\n"
   ]
  },
  {
   "cell_type": "markdown",
   "metadata": {
    "slideshow": {
     "slide_type": "fragment"
    }
   },
   "source": [
    "This chart looks much better and shows the how prices or different regions are changing over time. It would be nice to know how a *specific* neighborhood's prices change. "
   ]
  },
  {
   "cell_type": "markdown",
   "metadata": {
    "slideshow": {
     "slide_type": "slide"
    }
   },
   "source": [
    "Let's get the list of all region names available to us in San Diego. "
   ]
  },
  {
   "cell_type": "code",
   "execution_count": null,
   "metadata": {
    "ExecuteTime": {
     "end_time": "2019-08-29T15:17:27.008965Z",
     "start_time": "2019-08-29T15:17:27.002259Z"
    },
    "colab": {
     "base_uri": "https://localhost:8080/",
     "height": 34
    },
    "colab_type": "code",
    "id": "O8Bmukgr4UcM",
    "outputId": "bde19178-e532-4c2c-ef4c-5417a5bb0b9c",
    "slideshow": {
     "slide_type": "-"
    }
   },
   "outputs": [],
   "source": [
    "region_names = list(pd.unique(df_sd.RegionName))\n",
    "len(region_names)"
   ]
  },
  {
   "cell_type": "code",
   "execution_count": null,
   "metadata": {
    "ExecuteTime": {
     "end_time": "2019-08-29T15:17:27.277287Z",
     "start_time": "2019-08-29T15:17:27.010846Z"
    },
    "code_folding": [
     5
    ]
   },
   "outputs": [],
   "source": [
    "plt.figure(figsize=(8,4))\n",
    "df_region = df_sd[df_sd.RegionName == region_names[0]]\n",
    "plt.plot(df_region.variable, df_region.value, '.')\n",
    "labels = []\n",
    "pos = []\n",
    "for i, item in enumerate(pd.unique(df_region.variable)):\n",
    "    if i % 12 ==0:\n",
    "        pos.append(i)\n",
    "        labels.append(item.split(\"-\")[0])      \n",
    "plt.xticks(pos, labels, rotation = 90);\n",
    "plt.title(region_names[0]);"
   ]
  },
  {
   "cell_type": "code",
   "execution_count": null,
   "metadata": {
    "ExecuteTime": {
     "end_time": "2019-08-29T15:17:37.724985Z",
     "start_time": "2019-08-29T15:17:27.279157Z"
    },
    "code_folding": [],
    "colab": {
     "base_uri": "https://localhost:8080/",
     "height": 1575
    },
    "colab_type": "code",
    "id": "weo6T-_pRWPT",
    "outputId": "aefa28c5-693d-494e-b79d-7864b057a9d8",
    "scrolled": false,
    "slideshow": {
     "slide_type": "slide"
    }
   },
   "outputs": [],
   "source": [
    "plt.figure(figsize = (24,28))\n",
    "num_cols_in_subplot = 9\n",
    "for i, region_name in enumerate(sorted(region_names)):\n",
    "    plt.subplot(len(region_names)//num_cols_in_subplot+1, num_cols_in_subplot, \n",
    "                i+1)\n",
    "    # subset the data to just a specific region \n",
    "    df_region = df_sd[df_sd.RegionName == region_name]\n",
    "    plt.plot(df_region.variable, df_region.value, linewidth = 2.2, \n",
    "             label = region_name)\n",
    "    # make sure the vertical axis of each sub-plot has the same scale\n",
    "    plt.ylim([np.min(df_sd.value), np.max(df_sd.value)])\n",
    "    \n",
    "    # only plot the y ticks that apppear on left\n",
    "    if i%num_cols_in_subplot != 0:\n",
    "        plt.yticks([])\n",
    "    \n",
    "    # only plot the x ticks that apppear on bottom\n",
    "    if i < (len(region_names)//num_cols_in_subplot)*(num_cols_in_subplot):\n",
    "        plt.xticks([]);  \n",
    "    else:\n",
    "        # lets just plot ticks for every other year\n",
    "        # starting from an odd year\n",
    "        plt.xticks(pos[1::2], labels[1::2], rotation = 90);\n",
    "    \n",
    "    plt.title(region_name, loc = \"left\")\n",
    "    plt.subplots_adjust(wspace=0, hspace=.2)"
   ]
  },
  {
   "cell_type": "code",
   "execution_count": null,
   "metadata": {
    "ExecuteTime": {
     "end_time": "2019-08-29T15:17:38.406217Z",
     "start_time": "2019-08-29T15:17:37.726894Z"
    },
    "slideshow": {
     "slide_type": "slide"
    }
   },
   "outputs": [],
   "source": [
    "plt.figure(figsize=(14,4))\n",
    "plt.subplot(1,2,1)\n",
    "df_region = df_sd[df_sd.RegionName == region_names[0]]\n",
    "plt.plot(df_sd.variable, df_sd.value, '.', alpha = .08);\n",
    "plt.plot(df_region.variable, df_region.value, '.', color = \"red\")\n",
    "plt.xticks(pos, labels, rotation = 90);\n",
    "plt.title(region_names[0]);\n",
    "\n",
    "plt.subplot(1,2,2)\n",
    "df_region = df_sd[df_sd.RegionName == region_names[1]]\n",
    "plt.plot(df_sd.variable, df_sd.value, '.', alpha = .08);\n",
    "plt.plot(df_region.variable, df_region.value, '.', color = \"red\")\n",
    "plt.xticks(pos, labels, rotation = 90);\n",
    "plt.title(region_names[1]);\n",
    "\n"
   ]
  },
  {
   "cell_type": "code",
   "execution_count": null,
   "metadata": {
    "ExecuteTime": {
     "end_time": "2019-08-29T15:17:58.349994Z",
     "start_time": "2019-08-29T15:17:38.408026Z"
    },
    "code_folding": [],
    "scrolled": false,
    "slideshow": {
     "slide_type": "slide"
    }
   },
   "outputs": [],
   "source": [
    "plt.figure(figsize = (24,28))\n",
    "\n",
    "num_cols_in_subplot = 9\n",
    "\n",
    "for i, region_name in enumerate(sorted(region_names)):\n",
    "    plt.subplot(len(region_names)//num_cols_in_subplot+1, num_cols_in_subplot, \n",
    "                i+1)\n",
    "    # plot all the regions but very lightly small alpha\n",
    "    plt.plot(df_sd.variable, df_sd.value, '.', alpha = .01);\n",
    "    # subset the data to just a specific region \n",
    "    df_region = df_sd[df_sd.RegionName == region_name]\n",
    "    plt.plot(df_region.variable, df_region.value, linewidth = 2.2, \n",
    "             color = \"red\", label = region_name)\n",
    "    \n",
    "    # only plot the y ticks that apppear on left\n",
    "    if i%num_cols_in_subplot != 0:\n",
    "        plt.yticks([])\n",
    "    \n",
    "    # only plot the x ticks that apppear on bottom\n",
    "    if i < (len(region_names)//num_cols_in_subplot)*(num_cols_in_subplot):\n",
    "        plt.xticks([]);  \n",
    "    else:\n",
    "        # lets just plot ticks for every other year\n",
    "        # starting from an odd year\n",
    "        plt.xticks(pos[1::2], labels[1::2], rotation = 90);\n",
    "    \n",
    "    plt.title(region_name, loc = \"left\")\n",
    "    plt.subplots_adjust(wspace=0, hspace=.2)"
   ]
  },
  {
   "cell_type": "markdown",
   "metadata": {
    "ExecuteTime": {
     "end_time": "2019-04-04T07:31:56.275182Z",
     "start_time": "2019-04-04T07:31:56.260669Z"
    },
    "slideshow": {
     "slide_type": "slide"
    }
   },
   "source": [
    "### Bubble Analysis\n",
    "\n",
    "- The peak of the bubble occurred around 2005. \n",
    "- Instead of looking at prices at all time points in the data, lets compare prices at the height of the bubble with today. \n",
    "- We pick July 2005 as the \"height\" to correspond with the 14 years prior to the latest observations we have. "
   ]
  },
  {
   "cell_type": "code",
   "execution_count": null,
   "metadata": {
    "ExecuteTime": {
     "end_time": "2019-08-29T15:17:58.382191Z",
     "start_time": "2019-08-29T15:17:58.353608Z"
    },
    "colab": {
     "base_uri": "https://localhost:8080/",
     "height": 291
    },
    "colab_type": "code",
    "id": "-ARD36nrQbiw",
    "outputId": "87e5e1bf-2f33-43a8-cb2f-7137603ef677",
    "slideshow": {
     "slide_type": "-"
    }
   },
   "outputs": [],
   "source": [
    "df_latest = df_sd[df_sd.variable == df_sd.variable.max()]\n",
    "df_bubble = df_sd[df_sd.variable == '2005-07']\n",
    "df_change = pd.concat([df_bubble, df_latest], ignore_index=True)\n",
    "\n",
    "df_change.tail()"
   ]
  },
  {
   "cell_type": "markdown",
   "metadata": {
    "slideshow": {
     "slide_type": "slide"
    }
   },
   "source": [
    "## Slope Graphs"
   ]
  },
  {
   "cell_type": "code",
   "execution_count": null,
   "metadata": {
    "ExecuteTime": {
     "end_time": "2019-08-29T15:17:59.340246Z",
     "start_time": "2019-08-29T15:17:58.385196Z"
    }
   },
   "outputs": [],
   "source": [
    "for i, region_name in enumerate(region_names):\n",
    "    df_region = df_change[df_change.RegionName == region_name]\n",
    "    plt.plot(df_region.variable, df_region.value, color = \"k\", alpha = .4)\n"
   ]
  },
  {
   "cell_type": "markdown",
   "metadata": {
    "slideshow": {
     "slide_type": "fragment"
    }
   },
   "source": [
    "We have too much over-plotting! "
   ]
  },
  {
   "cell_type": "markdown",
   "metadata": {
    "slideshow": {
     "slide_type": "slide"
    }
   },
   "source": [
    "Over-plotting solution: only plot the regions that have \"large\" changes. Might be also interesting to look at regions that went \"negative\" (have yet to recover from the crash). "
   ]
  },
  {
   "cell_type": "code",
   "execution_count": null,
   "metadata": {
    "ExecuteTime": {
     "end_time": "2019-08-29T15:17:59.671678Z",
     "start_time": "2019-08-29T15:17:59.342757Z"
    },
    "code_folding": [
     4
    ],
    "colab": {
     "base_uri": "https://localhost:8080/",
     "height": 274
    },
    "colab_type": "code",
    "id": "cYvjp5ObcTFj",
    "outputId": "17ce883a-524e-460c-ed99-ba12c89dc0d4",
    "slideshow": {
     "slide_type": "fragment"
    }
   },
   "outputs": [],
   "source": [
    "for i, region_name in enumerate(region_names):\n",
    "    df_region = df_change[df_change.RegionName == region_name]\n",
    "    change = df_region.iloc[1,:][\"value\"] - df_region.iloc[0,:][\"value\"]\n",
    "    percent_change = 100*change/df_region.iloc[0,:][\"value\"]\n",
    "    if (change > 0) & (percent_change > 30):\n",
    "        plt.plot(df_region.variable, df_region.value, color = \"k\", alpha = .4)\n",
    "    elif (change < 0) & (percent_change < -5):\n",
    "        plt.plot(df_region.variable, df_region.value, color = \"r\", alpha = .5)"
   ]
  },
  {
   "cell_type": "markdown",
   "metadata": {
    "slideshow": {
     "slide_type": "-"
    }
   },
   "source": [
    "Which neighborhoods are the biggest movers? Which neighborhoods did not recover?"
   ]
  },
  {
   "cell_type": "code",
   "execution_count": null,
   "metadata": {
    "ExecuteTime": {
     "end_time": "2019-08-29T15:18:00.050515Z",
     "start_time": "2019-08-29T15:17:59.673387Z"
    },
    "code_folding": [],
    "scrolled": false,
    "slideshow": {
     "slide_type": "slide"
    }
   },
   "outputs": [],
   "source": [
    "fig, ax = plt.subplots(figsize=(4, 12))\n",
    "count = 0\n",
    "for i, region_name in enumerate(region_names):\n",
    "    df_region = df_change[df_change.RegionName == region_name]\n",
    "    change = df_region.iloc[1,:][\"value\"] - df_region.iloc[0,:][\"value\"]\n",
    "    percent_change = 100*change/df_region.iloc[0,:][\"value\"]\n",
    "    if (change > 0) & (percent_change > 30):\n",
    "        ax.plot(df_region.variable, df_region.value, color = \"k\", alpha = .4)\n",
    "        ax.text(1.05, df_region.value.iloc[1], region_name)\n",
    "\n",
    "    elif (change < 0) & (percent_change < -5):        \n",
    "        ax.plot(df_region.variable, df_region.value, color = \"r\", alpha = .9)\n",
    "        if count%2 == 0:\n",
    "            ax.text(-.01, df_region.value.iloc[0], region_name, \n",
    "                    horizontalalignment = \"right\", verticalalignment = \"top\")\n",
    "        else:\n",
    "            ax.text(1.05, df_region.value.iloc[1], region_name,)\n",
    "        count += 1\n",
    "\n",
    "plt.title(\"Median Housing Prices\");       "
   ]
  },
  {
   "cell_type": "markdown",
   "metadata": {
    "ExecuteTime": {
     "end_time": "2019-04-04T07:32:32.236123Z",
     "start_time": "2019-04-04T07:32:32.222353Z"
    },
    "slideshow": {
     "slide_type": "slide"
    }
   },
   "source": [
    "Percent change is often much more interesting. "
   ]
  },
  {
   "cell_type": "code",
   "execution_count": null,
   "metadata": {
    "ExecuteTime": {
     "end_time": "2019-08-29T15:18:00.072946Z",
     "start_time": "2019-08-29T15:18:00.055471Z"
    }
   },
   "outputs": [],
   "source": [
    "# undo a pivot\n",
    "df_sd_change = df_change.pivot(index = 'RegionName', columns = \"variable\", \n",
    "                               values = 'value')\n",
    "\n",
    "df_sd_change.reset_index(inplace=True)\n",
    "\n",
    "df_sd_change.head()"
   ]
  },
  {
   "cell_type": "markdown",
   "metadata": {
    "slideshow": {
     "slide_type": "slide"
    }
   },
   "source": [
    "We will create a new variable `percent_change` that has the percent change between the latest entry in our data with the \"peak\" bubble."
   ]
  },
  {
   "cell_type": "code",
   "execution_count": null,
   "metadata": {
    "ExecuteTime": {
     "end_time": "2019-08-29T15:18:00.119972Z",
     "start_time": "2019-08-29T15:18:00.077312Z"
    }
   },
   "outputs": [],
   "source": [
    "df_sd_change[\"percent_change\"] = 100*(df_sd_change[\"2019-07\"] - \n",
    "                                      df_sd_change[\"2005-07\"])/df_sd_change[\"2005-07\"]"
   ]
  },
  {
   "cell_type": "code",
   "execution_count": null,
   "metadata": {
    "ExecuteTime": {
     "end_time": "2019-08-29T15:18:00.129005Z",
     "start_time": "2019-08-29T15:18:00.122667Z"
    }
   },
   "outputs": [],
   "source": [
    "np.min(df_sd_change.percent_change), np.max(df_sd_change.percent_change)"
   ]
  },
  {
   "cell_type": "code",
   "execution_count": null,
   "metadata": {
    "ExecuteTime": {
     "end_time": "2019-08-29T15:18:02.448258Z",
     "start_time": "2019-08-29T15:18:00.131290Z"
    },
    "code_folding": [],
    "scrolled": false,
    "slideshow": {
     "slide_type": "slide"
    }
   },
   "outputs": [],
   "source": [
    "fig, ax = plt.subplots(figsize=(4,24), dpi= 80)\n",
    "ax.hlines(y=np.arange(df_sd_change.shape[0]), alpha=0.7, \n",
    "          xmin=np.min(df_sd_change.percent_change) -1, \n",
    "          xmax=np.max(df_sd_change.percent_change) + 5, \n",
    "          linewidth=.5, linestyles='dashdot')\n",
    "ax.scatter(y=np.arange(df_sd_change.shape[0]), \n",
    "           x=df_sd_change.percent_change, color='blue',s = 4, \n",
    "           alpha=0.7);\n",
    "\n",
    "\n",
    "ax.set_yticks(np.arange(df_sd_change.shape[0]))\n",
    "ax.set_yticklabels(df_sd_change.RegionName.str.title(), \n",
    "                   fontdict={'horizontalalignment': 'right',\n",
    "                             'size': 8});\n",
    "ax.set_ylim(-1, 123);"
   ]
  },
  {
   "cell_type": "markdown",
   "metadata": {
    "slideshow": {
     "slide_type": "slide"
    }
   },
   "source": [
    "Alphabetically showing data is almost never useful. It is much more informative to display in *quantitative* sort"
   ]
  },
  {
   "cell_type": "code",
   "execution_count": null,
   "metadata": {
    "ExecuteTime": {
     "end_time": "2019-08-29T15:18:02.454584Z",
     "start_time": "2019-08-29T15:18:02.450287Z"
    }
   },
   "outputs": [],
   "source": [
    "df_sd_change.sort_values([\"percent_change\"], inplace=True)"
   ]
  },
  {
   "cell_type": "code",
   "execution_count": null,
   "metadata": {
    "ExecuteTime": {
     "end_time": "2019-08-29T15:18:04.478522Z",
     "start_time": "2019-08-29T15:18:02.456960Z"
    },
    "code_folding": [
     14
    ],
    "scrolled": false,
    "slideshow": {
     "slide_type": "slide"
    }
   },
   "outputs": [],
   "source": [
    "fig, ax = plt.subplots(figsize=(4,24), dpi= 80)\n",
    "ax.hlines(y=np.arange(df_sd_change.shape[0]), alpha=0.7, \n",
    "          xmin=np.min(df_sd_change.percent_change) -1, \n",
    "          xmax=np.max(df_sd_change.percent_change) + 5, \n",
    "          linewidth=.5, linestyles='dashdot')\n",
    "ax.scatter(y=np.arange(df_sd_change.shape[0]), \n",
    "           x=df_sd_change.percent_change, color='blue',s = 4, \n",
    "           alpha=0.7);\n",
    "\n",
    "ax.set_title('Median home price change from 2005-07 to 2019-07', \n",
    "             fontdict={'size':12})\n",
    "ax.set_xlabel('Percent change')\n",
    "ax.set_yticks(np.arange(df_sd_change.shape[0]))\n",
    "ax.set_yticklabels(df_sd_change.RegionName.str.title(), \n",
    "                   fontdict={'horizontalalignment': 'right',\n",
    "                             'size': 8});\n",
    "ax.axvline(0)\n",
    "ax.set_ylim(-1, 123);"
   ]
  },
  {
   "cell_type": "markdown",
   "metadata": {
    "slideshow": {
     "slide_type": "slide"
    }
   },
   "source": [
    "## Price changes"
   ]
  },
  {
   "cell_type": "code",
   "execution_count": null,
   "metadata": {
    "ExecuteTime": {
     "end_time": "2019-08-29T15:18:04.637909Z",
     "start_time": "2019-08-29T15:18:04.480479Z"
    },
    "code_folding": []
   },
   "outputs": [],
   "source": [
    "monthly_change = df_sd.groupby(\"RegionName\")[\"value\"].apply(lambda x: \n",
    "                                                 100*x.diff()/np.hstack((1,x[:-1])))\n",
    "df_sd[\"monthly_change\"] = monthly_change\n",
    "df_sd.head()"
   ]
  },
  {
   "cell_type": "code",
   "execution_count": null,
   "metadata": {
    "ExecuteTime": {
     "end_time": "2019-08-29T15:18:04.654873Z",
     "start_time": "2019-08-29T15:18:04.640099Z"
    }
   },
   "outputs": [],
   "source": [
    "df_sd.tail()"
   ]
  },
  {
   "cell_type": "code",
   "execution_count": null,
   "metadata": {
    "ExecuteTime": {
     "end_time": "2019-08-29T15:18:05.250175Z",
     "start_time": "2019-08-29T15:18:04.656892Z"
    },
    "code_folding": [],
    "slideshow": {
     "slide_type": "slide"
    }
   },
   "outputs": [],
   "source": [
    "plt.figure(figsize=(7,8))\n",
    "plt.subplot(2,1,1)\n",
    "plt.plot(df_sd.variable, df_sd.value, '.', alpha = .01);\n",
    "plt.ylabel(\"Median monthly price\");\n",
    "plt.xticks([])\n",
    "plt.subplot(2,1,2)\n",
    "plt.plot(df_sd.variable, df_sd.monthly_change, '.', alpha = .01);\n",
    "plt.xticks(pos, labels, rotation = 90);\n",
    "plt.ylabel(\"Percently monthly price change\")\n",
    "plt.subplots_adjust(wspace=0, hspace=0)"
   ]
  },
  {
   "cell_type": "code",
   "execution_count": null,
   "metadata": {
    "ExecuteTime": {
     "end_time": "2019-08-29T15:18:05.954802Z",
     "start_time": "2019-08-29T15:18:05.252040Z"
    },
    "scrolled": true,
    "slideshow": {
     "slide_type": "slide"
    }
   },
   "outputs": [],
   "source": [
    "plt.figure(figsize=(14,4))\n",
    "plt.subplot(1,2,1)\n",
    "df_region = df_sd[df_sd.RegionName == region_names[0]]\n",
    "plt.plot(df_sd.variable, df_sd.monthly_change, '.', alpha = .08);\n",
    "plt.plot(df_region.variable, df_region.monthly_change, '.', color = \"red\")\n",
    "plt.xticks(pos, labels, rotation = 90);\n",
    "plt.axhline(0, color = \"k\")\n",
    "plt.ylabel(\"Percent monthly price change\")\n",
    "plt.title(region_names[0]);\n",
    "\n",
    "plt.subplot(1,2,2)\n",
    "df_region = df_sd[df_sd.RegionName == region_names[1]]\n",
    "plt.plot(df_sd.variable, df_sd.monthly_change, '.', alpha = .08);\n",
    "plt.plot(df_region.variable, df_region.monthly_change, '.', color = \"red\")\n",
    "plt.xticks(pos, labels, rotation = 90);\n",
    "plt.axhline(0, color = \"k\");\n",
    "plt.title(region_names[1]);\n",
    "\n"
   ]
  },
  {
   "cell_type": "code",
   "execution_count": null,
   "metadata": {
    "ExecuteTime": {
     "end_time": "2019-08-29T15:18:06.663026Z",
     "start_time": "2019-08-29T15:18:05.957152Z"
    },
    "scrolled": true,
    "slideshow": {
     "slide_type": "slide"
    }
   },
   "outputs": [],
   "source": [
    "plt.figure(figsize=(14,4))\n",
    "plt.subplot(1,2,1)\n",
    "df_region = df_sd[df_sd.RegionName == region_names[0]]\n",
    "plt.plot(df_sd.variable, df_sd.value, '.', alpha = .08);\n",
    "plt.plot(df_region.variable, df_region.value, '.', color = \"red\")\n",
    "plt.xticks(pos, labels, rotation = 90);\n",
    "plt.ylabel(\"Median monthly price\")\n",
    "plt.title(region_names[0]);\n",
    "\n",
    "plt.subplot(1,2,2)\n",
    "df_region = df_sd[df_sd.RegionName == region_names[1]]\n",
    "plt.plot(df_sd.variable, df_sd.value, '.', alpha = .08);\n",
    "plt.plot(df_region.variable, df_region.value, '.', color = \"red\")\n",
    "plt.xticks(pos, labels, rotation = 90);\n",
    "plt.title(region_names[1]);\n",
    "\n"
   ]
  },
  {
   "cell_type": "code",
   "execution_count": null,
   "metadata": {
    "ExecuteTime": {
     "end_time": "2019-08-29T15:18:30.630621Z",
     "start_time": "2019-08-29T15:18:06.664947Z"
    },
    "code_folding": [
     1
    ],
    "scrolled": true,
    "slideshow": {
     "slide_type": "slide"
    }
   },
   "outputs": [],
   "source": [
    "plt.figure(figsize = (24,28))\n",
    "for i, region_name in enumerate(region_names):\n",
    "    plt.subplot(14, 9, i+1)\n",
    "    \n",
    "    plt.plot(df_sd.variable, df_sd.monthly_change, '.', alpha = .01);\n",
    "    plt.xticks([]);\n",
    "    df_region = df_sd[df_sd.RegionName == region_name]\n",
    "    plt.plot(df_region.variable, df_region.monthly_change, linewidth = 2.2, \n",
    "             color = \"r\", label = region_name)\n",
    "\n",
    "    plt.xticks([]);\n",
    "    if i%9 != 0:\n",
    "        plt.yticks([])\n",
    "    \n",
    "    plt.title(region_name, loc = \"left\")\n",
    "    plt.subplots_adjust(wspace=0, hspace=.2)"
   ]
  },
  {
   "cell_type": "markdown",
   "metadata": {
    "slideshow": {
     "slide_type": "slide"
    }
   },
   "source": [
    "Let's compare the distribution of percent changes between two different states: early bubble state and present state we are at in the Real Estate market. "
   ]
  },
  {
   "cell_type": "code",
   "execution_count": null,
   "metadata": {
    "ExecuteTime": {
     "end_time": "2019-08-29T15:18:30.672864Z",
     "start_time": "2019-08-29T15:18:30.633273Z"
    }
   },
   "outputs": [],
   "source": [
    "df_bubble_leadup = df_sd[(df_sd.variable>=\"2000-01\") & (df_sd.variable<\"2005-01\")]\n",
    "\n",
    "df_current_state = df_sd[(df_sd.variable>\"2014-07\") & (df_sd.variable<=\"2019-07\")]\n",
    "\n",
    "df_bubble_leadup.head()"
   ]
  },
  {
   "cell_type": "markdown",
   "metadata": {
    "slideshow": {
     "slide_type": "slide"
    }
   },
   "source": [
    "Are the differences between the current state and the bubble state the same or different? Let's estimate some $p$-values for this."
   ]
  },
  {
   "cell_type": "code",
   "execution_count": null,
   "metadata": {
    "ExecuteTime": {
     "end_time": "2019-08-29T15:18:30.681037Z",
     "start_time": "2019-08-29T15:18:30.676379Z"
    }
   },
   "outputs": [],
   "source": [
    "from scipy import stats"
   ]
  },
  {
   "cell_type": "code",
   "execution_count": null,
   "metadata": {
    "ExecuteTime": {
     "end_time": "2019-08-29T15:18:31.628564Z",
     "start_time": "2019-08-29T15:18:30.684531Z"
    }
   },
   "outputs": [],
   "source": [
    "p_vals = []\n",
    "median_diffs = []\n",
    "for region in region_names:\n",
    "    df_bubble_leadup_region = df_bubble_leadup[df_bubble_leadup.RegionName == region].dropna()\n",
    "    df_current_state_region = df_current_state[df_current_state.RegionName == region].dropna()\n",
    "    if (df_bubble_leadup_region.shape[0] == 0) or (df_current_state_region.shape[0]==0):\n",
    "        continue\n",
    "    _, p_val = stats.ttest_ind(df_bubble_leadup_region.monthly_change, \n",
    "                               df_current_state_region.monthly_change)\n",
    "    p_vals.append(p_val)\n",
    "    \n",
    "    median_diffs.append(np.median(np.abs(df_current_state_region.monthly_change)) - \n",
    "                        np.median(np.abs(df_bubble_leadup_region.monthly_change)))"
   ]
  },
  {
   "cell_type": "markdown",
   "metadata": {
    "slideshow": {
     "slide_type": "slide"
    }
   },
   "source": [
    "## Volcano Plot\n",
    "\n",
    "\n",
    "Volcano plots show us the relationship between the effect size and the statistical significance. The higher the effect size (more positive or more negative) and the higher on the graph (lower p-value) then the lesser chance of having False Positives. "
   ]
  },
  {
   "cell_type": "code",
   "execution_count": null,
   "metadata": {
    "ExecuteTime": {
     "end_time": "2019-08-29T15:18:32.069108Z",
     "start_time": "2019-08-29T15:18:31.630447Z"
    }
   },
   "outputs": [],
   "source": [
    "\n",
    "plt.plot(median_diffs, -np.log10(p_vals), '.');\n",
    "plt.axhline(-np.log10(.05), label = \"statistically significant\", color = \"k\")\n",
    "plt.legend();\n",
    "plt.xlabel(\"Effect size\")\n",
    "plt.ylabel(\"-log$_{10}p$\");"
   ]
  },
  {
   "cell_type": "markdown",
   "metadata": {
    "slideshow": {
     "slide_type": "slide"
    }
   },
   "source": [
    "## Box Plot\n",
    "\n",
    "\n",
    "To be even more convincing, let's look at the distribution of price changes during the bubble and currently. "
   ]
  },
  {
   "cell_type": "code",
   "execution_count": null,
   "metadata": {
    "ExecuteTime": {
     "end_time": "2019-08-29T15:18:32.439304Z",
     "start_time": "2019-08-29T15:18:32.071807Z"
    },
    "slideshow": {
     "slide_type": "-"
    }
   },
   "outputs": [],
   "source": [
    "df_bubble_leadup[\"state\"] = \"bubble\"\n",
    "df_current_state[\"state\"] = \"current\"\n",
    "\n",
    "\n",
    "df_box_plot = pd.concat([df_bubble_leadup, df_current_state], axis = 0)"
   ]
  },
  {
   "cell_type": "code",
   "execution_count": null,
   "metadata": {
    "ExecuteTime": {
     "end_time": "2019-08-29T15:18:32.655322Z",
     "start_time": "2019-08-29T15:18:32.442744Z"
    },
    "slideshow": {
     "slide_type": "slide"
    }
   },
   "outputs": [],
   "source": [
    "\n",
    "ax = sns.boxplot(x='state', y='monthly_change', data=df_box_plot)\n"
   ]
  },
  {
   "cell_type": "markdown",
   "metadata": {
    "slideshow": {
     "slide_type": "fragment"
    }
   },
   "source": [
    "The box plot summarizes the data effectively, but the raw data is hidden. It would be nice to see some of the actual data itself. "
   ]
  },
  {
   "cell_type": "code",
   "execution_count": null,
   "metadata": {
    "ExecuteTime": {
     "end_time": "2019-08-29T15:18:32.873255Z",
     "start_time": "2019-08-29T15:18:32.657199Z"
    },
    "slideshow": {
     "slide_type": "slide"
    }
   },
   "outputs": [],
   "source": [
    "np.random.seed(100)\n",
    "ax = sns.boxplot(x='state', y='monthly_change', data=df_box_plot.sample(100))\n",
    "np.random.seed(100)\n",
    "ax = sns.swarmplot(x='state', y='monthly_change', data=df_box_plot.sample(100), color=\"grey\")\n"
   ]
  },
  {
   "cell_type": "code",
   "execution_count": null,
   "metadata": {},
   "outputs": [],
   "source": []
  }
 ],
 "metadata": {
  "celltoolbar": "Slideshow",
  "colab": {
   "name": "matplotlib-seaborn.ipynb",
   "provenance": [],
   "version": "0.3.2"
  },
  "hide_input": false,
  "kernelspec": {
   "display_name": "Python 3",
   "language": "python",
   "name": "python3"
  },
  "language_info": {
   "codemirror_mode": {
    "name": "ipython",
    "version": 3
   },
   "file_extension": ".py",
   "mimetype": "text/x-python",
   "name": "python",
   "nbconvert_exporter": "python",
   "pygments_lexer": "ipython3",
   "version": "3.6.10"
  },
  "latex_envs": {
   "LaTeX_envs_menu_present": false,
   "autoclose": false,
   "autocomplete": true,
   "bibliofile": "biblio.bib",
   "cite_by": "apalike",
   "current_citInitial": 1,
   "eqLabelWithNumbers": true,
   "eqNumInitial": 1,
   "hotkeys": {
    "equation": "Ctrl-E",
    "itemize": "Ctrl-I"
   },
   "labels_anchors": false,
   "latex_user_defs": false,
   "report_style_numbering": false,
   "user_envs_cfg": false
  },
  "varInspector": {
   "cols": {
    "lenName": 16,
    "lenType": 16,
    "lenVar": 40
   },
   "kernels_config": {
    "python": {
     "delete_cmd_postfix": "",
     "delete_cmd_prefix": "del ",
     "library": "var_list.py",
     "varRefreshCmd": "print(var_dic_list())"
    },
    "r": {
     "delete_cmd_postfix": ") ",
     "delete_cmd_prefix": "rm(",
     "library": "var_list.r",
     "varRefreshCmd": "cat(var_dic_list()) "
    }
   },
   "types_to_exclude": [
    "module",
    "function",
    "builtin_function_or_method",
    "instance",
    "_Feature"
   ],
   "window_display": false
  }
 },
 "nbformat": 4,
 "nbformat_minor": 2
}
